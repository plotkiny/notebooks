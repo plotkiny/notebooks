{
 "cells": [
  {
   "cell_type": "code",
   "execution_count": null,
   "metadata": {},
   "outputs": [],
   "source": [
    "##########################################################################\n",
    "#################           BASE DATA MANIPULATION         ###############\n",
    "##########################################################################"
   ]
  },
  {
   "cell_type": "code",
   "execution_count": null,
   "metadata": {},
   "outputs": [],
   "source": [
    "! gunzip -c UKBB.GWAS.EXOME.CAD.txt.gz | \\\n",
    "    awk 'NR==1 || ($7 > 0.01) && ($13 > 0.75) {print}' | \\\n",
    "    gzip  > UKBB.GWAS.EXOME.CAD.filter.txt.gz"
   ]
  },
  {
   "cell_type": "code",
   "execution_count": null,
   "metadata": {},
   "outputs": [],
   "source": [
    "! gunzip -c UKBB.GWAS.EXOME.CAD.filter.txt.gz | awk \\\n",
    "    '!( ($4==\"A\" && $5==\"T\") || \\\n",
    "        ($4==\"T\" && $5==\"A\") || \\\n",
    "        ($4==\"G\" && $5==\"C\") || \\\n",
    "        ($4==\"C\" && $5==\"G\")) {print}' | \\\n",
    "    gzip > UKBB.GWAS.EXOME.CAD.filter.noambig.txt.gz"
   ]
  },
  {
   "cell_type": "code",
   "execution_count": null,
   "metadata": {},
   "outputs": [],
   "source": [
    "! gunzip -c UKBB.GWAS.EXOME.CAD.filter.noambig.txt.gz | \\\n",
    "    awk '{ print $2}' | sort | uniq -d > duplicated.snp"
   ]
  },
  {
   "cell_type": "code",
   "execution_count": null,
   "metadata": {},
   "outputs": [],
   "source": [
    "! gunzip -c UKBB.GWAS.EXOME.CAD.filter.noambig.txt.gz  | \\\n",
    "    grep -vf duplicated.snp |\\\n",
    "    gzip - > UKBB.GWAS.EXOME.CAD.filter.noambig.nodups.txt.gz"
   ]
  },
  {
   "cell_type": "code",
   "execution_count": null,
   "metadata": {},
   "outputs": [],
   "source": [
    "##########################################################################\n",
    "################          TARGET DATA MANIPULATION         ###############\n",
    "##########################################################################"
   ]
  },
  {
   "cell_type": "code",
   "execution_count": null,
   "metadata": {},
   "outputs": [],
   "source": [
    "! gunzip -c genotypes.vcf.gz | head -250000 | gzip > genotypes.HEAD.vcf.gz  #working with the first 250K lines"
   ]
  },
  {
   "cell_type": "code",
   "execution_count": null,
   "metadata": {},
   "outputs": [],
   "source": [
    "! plink --vcf genotypes.HEAD.vcf.gz"
   ]
  },
  {
   "cell_type": "code",
   "execution_count": null,
   "metadata": {},
   "outputs": [],
   "source": [
    "! mv plink.bed genotype.bed\n",
    "! mv plink.fam genotype.fam\n",
    "! mv plink.bim genotype.bim\n",
    "! mv plink.log genotype.log"
   ]
  },
  {
   "cell_type": "code",
   "execution_count": null,
   "metadata": {},
   "outputs": [],
   "source": [
    "! plink --bfile genotype --maf 0.01 --hwe 1e-6 --geno 0.01 --mind 0.35 --write-snplist \\\n",
    "      --make-just-fam --out genotype.QC "
   ]
  },
  {
   "cell_type": "code",
   "execution_count": null,
   "metadata": {},
   "outputs": [],
   "source": [
    "! plink --bfile genotype --list-duplicate-vars ids-only suppress-first"
   ]
  },
  {
   "cell_type": "code",
   "execution_count": null,
   "metadata": {},
   "outputs": [],
   "source": [
    "! gunzip -c genotypes.HEAD.vcf.gz | grep \"^[^##]\" | cut -f3 | sort | uniq -d > plink.dupvar  #hack to create the dupvar file"
   ]
  },
  {
   "cell_type": "code",
   "execution_count": null,
   "metadata": {},
   "outputs": [],
   "source": [
    "! plink --bfile genotype --exclude plink.dupvar  --make-bed --out genotype"
   ]
  },
  {
   "cell_type": "code",
   "execution_count": null,
   "metadata": {},
   "outputs": [],
   "source": [
    "! plink --bfile genotype  --keep genotype.QC.fam --extract genotype.QC.snplist \\\n",
    "      --indep-pairwise 50 12 0.25 --out genotype.QC"
   ]
  },
  {
   "cell_type": "code",
   "execution_count": null,
   "metadata": {},
   "outputs": [],
   "source": [
    "! plink --bfile genotype --extract genotype.QC.prune.in  --keep genotype.QC.fam \\\n",
    "      --het --out genotype.QC"
   ]
  },
  {
   "cell_type": "code",
   "execution_count": null,
   "metadata": {},
   "outputs": [],
   "source": [
    "# Optional generate SNP Filtering files, i.e. SNPs that have mismatching alleles reported in the base and target data\n",
    "# genotype.QC.adj.bim\n",
    "# genotype.mismatch"
   ]
  },
  {
   "cell_type": "code",
   "execution_count": null,
   "metadata": {},
   "outputs": [],
   "source": [
    "mv genotype.bim genotype.bim.bk\n",
    "ln -s genotype.QC.adj.bim genotype.bim"
   ]
  },
  {
   "cell_type": "code",
   "execution_count": null,
   "metadata": {},
   "outputs": [],
   "source": [
    "! plink --bfile genotype --extract genotype.QC.prune.in  --keep genotype.valid.sample \\\n",
    "      --check-sex --out genotype.QC  #NEED X CHROMOSOME"
   ]
  },
  {
   "cell_type": "code",
   "execution_count": null,
   "metadata": {},
   "outputs": [],
   "source": [
    "! plink --bfile genotype --extract genotype.QC.prune.in --keep genotype.valid.sample \\\n",
    "      --rel-cutoff 0.125 --out genotype.QC"
   ]
  },
  {
   "cell_type": "code",
   "execution_count": null,
   "metadata": {},
   "outputs": [],
   "source": [
    "! plink --bfile genotype --make-bed --keep genotype.QC.rel.id --out genotype.QC \\\n",
    "      --extract genotype.QC.snplist --exclude genotype.mismatch"
   ]
  },
  {
   "cell_type": "code",
   "execution_count": null,
   "metadata": {},
   "outputs": [],
   "source": [
    "##########################################################################\n",
    "###########################    POLYGENIC RISK SCORE        ###############\n",
    "##########################################################################"
   ]
  },
  {
   "cell_type": "code",
   "execution_count": null,
   "metadata": {},
   "outputs": [],
   "source": [
    "#OR = Odds Ratio is already in log. No need to transform...\n",
    "\n",
    "#clumping\n",
    "! plink --bfile genotype.QC \\\n",
    "    --clump-p1 1 --clump-r2 0.3 --clump-kb 50 \\\n",
    "    --clump genotype.QC.Transformed  \\\n",
    "    --clump-snp-field SNP --clump-field P --out genotype"
   ]
  },
  {
   "cell_type": "code",
   "execution_count": null,
   "metadata": {},
   "outputs": [],
   "source": [
    "! awk 'NR!=1{print $3}' genotype.clumped >  genotype.valid.snp\n",
    "! awk '{print $2,$10}' genotype.QC.Transformed > SNP.pvalue"
   ]
  },
  {
   "cell_type": "code",
   "execution_count": null,
   "metadata": {},
   "outputs": [],
   "source": [
    "! echo \"0.001 0 0.001\" > range_list\n",
    "! echo \"0.05 0 0.05\" >> range_list\n",
    "! echo \"0.1 0 0.1\" >> range_list\n",
    "! echo \"0.2 0 0.2\" >> range_list\n",
    "! echo \"0.3 0 0.3\" >> range_list\n",
    "! echo \"0.4 0 0.4\" >> range_list\n",
    "! echo \"0.5 0 0.5\" >> range_list"
   ]
  },
  {
   "cell_type": "code",
   "execution_count": null,
   "metadata": {},
   "outputs": [],
   "source": [
    "! plink --bfile genotype.QC \\\n",
    "      --score genotype.QC.Transformed 2 5 8 header \\\n",
    "      --q-score-range range_list SNP.pvalue \\\n",
    "      --extract genotype.valid.snp \\\n",
    "      --out genotype"
   ]
  },
  {
   "cell_type": "code",
   "execution_count": null,
   "metadata": {},
   "outputs": [],
   "source": [
    "############################################################################\n",
    "################   PCA ANALYSIS - POPULATION STRATIFICATION  ###############\n",
    "############################################################################"
   ]
  },
  {
   "cell_type": "code",
   "execution_count": null,
   "metadata": {},
   "outputs": [],
   "source": [
    "! plink --bfile genotype.QC --indep-pairwise 50 10 0.3 --out genotype"
   ]
  },
  {
   "cell_type": "code",
   "execution_count": null,
   "metadata": {},
   "outputs": [],
   "source": [
    "! plink --bfile genotype.QC --extract genotype.prune.in --pca 20 --out genotype"
   ]
  },
  {
   "cell_type": "code",
   "execution_count": null,
   "metadata": {},
   "outputs": [],
   "source": []
  }
 ],
 "metadata": {
  "kernelspec": {
   "display_name": "Python [conda env:anaconda3]",
   "language": "python",
   "name": "conda-env-anaconda3-py"
  },
  "language_info": {
   "codemirror_mode": {
    "name": "ipython",
    "version": 3
   },
   "file_extension": ".py",
   "mimetype": "text/x-python",
   "name": "python",
   "nbconvert_exporter": "python",
   "pygments_lexer": "ipython3",
   "version": "3.6.5"
  }
 },
 "nbformat": 4,
 "nbformat_minor": 2
}
