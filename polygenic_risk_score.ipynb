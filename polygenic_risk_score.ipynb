{
 "cells": [
  {
   "cell_type": "code",
   "execution_count": null,
   "metadata": {},
   "outputs": [],
   "source": [
    "##########################################################################\n",
    "#################           BASE DATA MANIPULATION         ###############\n",
    "##########################################################################"
   ]
  },
  {
   "cell_type": "code",
   "execution_count": null,
   "metadata": {},
   "outputs": [],
   "source": [
    "! gunzip -c UKBB.GWAS.EXOME.CAD.txt.gz | \\\n",
    "    awk 'NR==1 || ($7 > 0.01) && ($13 > 0.75) {print}' | \\\n",
    "    gzip  > UKBB.GWAS.EXOME.CAD.filter.txt.gz"
   ]
  },
  {
   "cell_type": "code",
   "execution_count": null,
   "metadata": {},
   "outputs": [],
   "source": [
    "! gunzip -c UKBB.GWAS.EXOME.CAD.filter.txt.gz | awk \\\n",
    "    '!( ($4==\"A\" && $5==\"T\") || \\\n",
    "        ($4==\"T\" && $5==\"A\") || \\\n",
    "        ($4==\"G\" && $5==\"C\") || \\\n",
    "        ($4==\"C\" && $5==\"G\")) {print}' | \\\n",
    "    gzip > UKBB.GWAS.EXOME.CAD.filter.noambig.txt.gz"
   ]
  },
  {
   "cell_type": "code",
   "execution_count": null,
   "metadata": {},
   "outputs": [],
   "source": [
    "! gunzip -c UKBB.GWAS.EXOME.CAD.filter.noambig.txt.gz | \\\n",
    "    awk '{ print $2}' | sort | uniq -d > duplicated.snp"
   ]
  },
  {
   "cell_type": "code",
   "execution_count": null,
   "metadata": {},
   "outputs": [],
   "source": [
    "! gunzip -c UKBB.GWAS.EXOME.CAD.filter.noambig.txt.gz  | \\\n",
    "    grep -vf duplicated.snp |\\\n",
    "    gzip - > UKBB.GWAS.EXOME.CAD.filter.noambig.nodups.txt.gz"
   ]
  },
  {
   "cell_type": "code",
   "execution_count": null,
   "metadata": {},
   "outputs": [],
   "source": [
    "##########################################################################\n",
    "################          TARGET DATA MANIPULATION         ###############\n",
    "##########################################################################"
   ]
  },
  {
   "cell_type": "code",
   "execution_count": null,
   "metadata": {},
   "outputs": [],
   "source": [
    "! gunzip -c genotypes.vcf.gz | head -250000 | gzip > genotypes.HEAD.vcf.gz  #working with the first 250K lines"
   ]
  },
  {
   "cell_type": "code",
   "execution_count": null,
   "metadata": {},
   "outputs": [],
   "source": [
    "! plink --vcf genotypes.HEAD.vcf.gz"
   ]
  },
  {
   "cell_type": "code",
   "execution_count": null,
   "metadata": {},
   "outputs": [],
   "source": []
  },
  {
   "cell_type": "code",
   "execution_count": null,
   "metadata": {},
   "outputs": [],
   "source": []
  }
 ],
 "metadata": {
  "kernelspec": {
   "display_name": "Python [conda env:anaconda3]",
   "language": "python",
   "name": "conda-env-anaconda3-py"
  },
  "language_info": {
   "codemirror_mode": {
    "name": "ipython",
    "version": 3
   },
   "file_extension": ".py",
   "mimetype": "text/x-python",
   "name": "python",
   "nbconvert_exporter": "python",
   "pygments_lexer": "ipython3",
   "version": "3.6.5"
  }
 },
 "nbformat": 4,
 "nbformat_minor": 2
}
